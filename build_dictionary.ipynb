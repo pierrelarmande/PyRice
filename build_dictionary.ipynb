{
 "cells": [
  {
   "cell_type": "code",
   "execution_count": 1,
   "metadata": {},
   "outputs": [],
   "source": [
    "# -*- coding: utf-8 -*-\n",
    "from MultiQuery import MultiQuery\n",
    "import time\n",
    "import re\n",
    "import csv\n",
    "import pickle"
   ]
  },
  {
   "cell_type": "code",
   "execution_count": 3,
   "metadata": {},
   "outputs": [
    {
     "name": "stdout",
     "output_type": "stream",
     "text": [
      "Time for search gene: 2.527773141860962\n",
      "Time for search gene: 1.8144500255584717\n"
     ]
    }
   ],
   "source": [
    "if __name__ == \"__main__\":\n",
    "    test = MultiQuery()\n",
    "    chromosome= [\"chr01\",\"chr02\",\"chr03\",\"chr04\",\"chr05\",\"chr06\",\"chr07\",\"chr08\",\"chr09\",\"chr10\",\"chr11\",\"chr12\"]\n",
    "    start = [\"1\",\"1\",\"1\",\"1\",\"1\",\"1\",\"1\",\"1\",\"1\",\"1\",\"1\",\"1\"]\n",
    "    end = [\"43270923\",\"35937250\",\"36413819\",\"35502694\",\"29958434\",\"31248787\",\"29697621\",\"28443022\",\"23012720\"\n",
    "          ,\"23207287\",\"29021106\",\"27531856\"]\n",
    "    iric_dict = dict()\n",
    "    for i in range(len(chromosome)):\n",
    "        t = time.time()\n",
    "        file_id = test.search_gene(chro=chromosome[i], start_pos=start[i],\n",
    "                            end_pos=end[i],dbs=[\"iric\"],save_path=None)\n",
    "        iric_dict.update(file_id)\n",
    "        # file_id = test.search_gene(chro=\"chr01\", start_pos=\"1\",\n",
    "        #                     end_pos=\"43270923\",dbs=[\"iric\"],save_path=\"./result/\")\n",
    "        print(\"Time for search gene:\",time.time() - t)\n",
    "#     print(iric_dict)  "
   ]
  },
  {
   "cell_type": "code",
   "execution_count": 4,
   "metadata": {},
   "outputs": [
    {
     "data": {
      "text/plain": [
       "{}"
      ]
     },
     "execution_count": 4,
     "metadata": {},
     "output_type": "execute_result"
    }
   ],
   "source": [
    "iric_dict"
   ]
  },
  {
   "cell_type": "code",
   "execution_count": 5,
   "metadata": {},
   "outputs": [],
   "source": [
    "id_dict = dict()\n",
    "loc_dict = dict()\n",
    "for iric_name in iric_dict.keys():\n",
    "    if iric_dict[iric_name][\"msu7Name\"] != None:\n",
    "        for loc in iric_dict[iric_name][\"msu7Name\"]:\n",
    "            if loc not in loc_dict.keys():\n",
    "                loc_dict.setdefault(loc,iric_name)\n",
    "    if iric_dict[iric_name][\"raprepName\"] != None:\n",
    "        for ids in iric_dict[iric_name][\"raprepName\"]:\n",
    "            if ids not in id_dict.keys():\n",
    "                id_dict.setdefault(ids,iric_name)"
   ]
  },
  {
   "cell_type": "code",
   "execution_count": 6,
   "metadata": {},
   "outputs": [],
   "source": [
    "with open('./support/loc_dict_2018', 'rb') as f:\n",
    "    l_dict = pickle.load(f)\n",
    "    f.close()\n",
    "with open('./support/id_dict_2018', 'rb') as f:\n",
    "    i_dict = pickle.load(f)\n",
    "    f.close()"
   ]
  },
  {
   "cell_type": "code",
   "execution_count": 14,
   "metadata": {},
   "outputs": [],
   "source": [
    "with open('./support/iric_dict', 'wb') as f:\n",
    "    pickle.dump(iric_dict,f)\n",
    "    f.close()\n",
    "with open('./support/loc_dict', 'wb') as f:\n",
    "    pickle.dump(loc_dict,f)\n",
    "    f.close()\n",
    "with open('./support/id_dict', 'wb') as f:\n",
    "    pickle.dump(id_dict,f)\n",
    "    f.close()"
   ]
  },
  {
   "cell_type": "code",
   "execution_count": 7,
   "metadata": {},
   "outputs": [
    {
     "data": {
      "text/plain": [
       "45963"
      ]
     },
     "execution_count": 7,
     "metadata": {},
     "output_type": "execute_result"
    }
   ],
   "source": [
    "len(i_dict)"
   ]
  },
  {
   "cell_type": "code",
   "execution_count": 16,
   "metadata": {},
   "outputs": [
    {
     "data": {
      "text/plain": [
       "{'msu7Name': {'LOC_Os01g01080'},\n",
       " 'raprepName': {'Os01g0100900'},\n",
       " 'contig': 'chr01',\n",
       " 'fmin': 35580,\n",
       " 'fmax': 41180}"
      ]
     },
     "execution_count": 16,
     "metadata": {},
     "output_type": "execute_result"
    }
   ],
   "source": [
    "iric_dict[\"OsNippo01g010550\"]"
   ]
  },
  {
   "cell_type": "code",
   "execution_count": 17,
   "metadata": {},
   "outputs": [
    {
     "data": {
      "text/plain": [
       "'OsNippo08g047400'"
      ]
     },
     "execution_count": 17,
     "metadata": {},
     "output_type": "execute_result"
    }
   ],
   "source": [
    "id_dict[\"Os08g0164400\"]"
   ]
  },
  {
   "cell_type": "code",
   "execution_count": 9,
   "metadata": {},
   "outputs": [
    {
     "name": "stdout",
     "output_type": "stream",
     "text": [
      "Os01g0114401\n",
      "Os01g0114450\n",
      "Os01g0200175\n",
      "Os01g0244900\n",
      "Os01g0246350\n",
      "Os01g0285950\n",
      "Os01g0316550\n",
      "Os01g0335550\n",
      "Os01g0336701\n",
      "Os01g0337550\n",
      "Os01g0342700\n",
      "Os01g0360175\n",
      "Os01g0360801\n",
      "Os01g0367601\n",
      "Os01g0516300\n",
      "Os01g0517850\n",
      "Os01g0518701\n",
      "Os01g0561900\n",
      "Os01g0564467\n",
      "Os01g0590850\n",
      "Os01g0594850\n",
      "Os01g0598901\n",
      "Os01g0605600\n",
      "Os01g0606100\n",
      "Os01g0616666\n",
      "Os01g0653425\n",
      "Os01g0660600\n",
      "Os01g0677450\n",
      "Os01g0695650\n",
      "Os01g0698850\n",
      "Os01g0714200\n",
      "Os01g0714300\n",
      "Os01g0714366\n",
      "Os01g0738701\n",
      "Os01g0774133\n",
      "Os01g0819150\n",
      "Os01g0820100\n",
      "Os01g0834175\n",
      "Os01g0871766\n",
      "Os01g0876150\n",
      "Os01g0888850\n",
      "Os01g0891500\n",
      "Os01g0894900\n",
      "Os01g0903700\n",
      "Os01g0941901\n",
      "Os01g0945500\n",
      "Os02g0155650\n",
      "Os02g0155750\n",
      "Os02g0161450\n",
      "Os02g0169600\n",
      "Os02g0233300\n",
      "Os02g0235200\n",
      "Os02g0247701\n",
      "Os02g0254500\n",
      "Os02g0274650\n",
      "Os02g0278501\n",
      "Os02g0288766\n",
      "Os02g0297067\n",
      "Os02g0307100\n",
      "Os02g0307133\n",
      "Os02g0307166\n",
      "Os02g0314933\n",
      "Os02g0472350\n",
      "Os02g0472632\n",
      "Os02g0478525\n",
      "Os02g0479900\n",
      "Os02g0514725\n",
      "Os02g0550566\n",
      "Os02g0554400\n",
      "Os02g0599000\n",
      "Os02g0607433\n",
      "Os02g0669600\n",
      "Os02g0730200\n",
      "Os02g0734667\n",
      "Os02g0766301\n",
      "Os02g0786300\n",
      "Os02g0789500\n",
      "Os02g0825433\n",
      "Os03g0246000\n",
      "Os03g0305450\n",
      "Os03g0373150\n",
      "Os03g0375000\n",
      "Os03g0424066\n",
      "Os03g0430100\n",
      "Os03g0571250\n",
      "Os03g0582400\n",
      "Os03g0589450\n",
      "Os03g0619001\n",
      "Os03g0619002\n",
      "Os03g0640201\n",
      "Os03g0643200\n",
      "Os03g0658266\n",
      "Os03g0678900\n",
      "Os03g0702133\n",
      "Os03g0745500\n",
      "Os03g0750833\n",
      "Os03g0764200\n",
      "Os03g0855650\n",
      "Os04g0117801\n",
      "Os04g0132950\n",
      "Os04g0135100\n",
      "Os04g0137001\n",
      "Os04g0140533\n",
      "Os04g0146750\n",
      "Os04g0146975\n",
      "Os04g0183200\n",
      "Os04g0195466\n",
      "Os04g0195832\n",
      "Os04g0198300\n",
      "Os04g0204650\n",
      "Os04g0220050\n",
      "Os04g0220500\n",
      "Os04g0251262\n",
      "Os04g0252475\n",
      "Os04g0295300\n",
      "Os04g0298400\n",
      "Os04g0316850\n",
      "Os04g0331501\n",
      "Os04g0347650\n",
      "Os04g0349000\n",
      "Os04g0349100\n",
      "Os04g0351300\n",
      "Os04g0355400\n",
      "Os04g0357850\n",
      "Os04g0359200\n",
      "Os04g0405750\n",
      "Os04g0423000\n",
      "Os04g0423050\n",
      "Os04g0469450\n",
      "Os04g0490200\n",
      "Os04g0490833\n",
      "Os04g0547833\n",
      "Os04g0557650\n",
      "Os04g0563451\n",
      "Os04g0563500\n",
      "Os04g0589300\n",
      "Os04g0601900\n",
      "Os04g0607175\n",
      "Os05g0104150\n",
      "Os05g0153066\n",
      "Os05g0160701\n",
      "Os05g0206300\n",
      "Os05g0212500\n",
      "Os05g0216900\n",
      "Os05g0295850\n",
      "Os05g0326650\n",
      "Os05g0326651\n",
      "Os05g0326663\n",
      "Os05g0357550\n",
      "Os05g0395207\n",
      "Os05g0406401\n",
      "Os05g0420800\n",
      "Os05g0432001\n",
      "Os05g0476316\n",
      "Os05g0486650\n",
      "Os05g0497550\n",
      "Os05g0522766\n",
      "Os05g0532400\n",
      "Os06g0100400\n",
      "Os06g0115950\n",
      "Os06g0141900\n",
      "Os06g0169700\n",
      "Os06g0183450\n",
      "Os06g0188250\n",
      "Os06g0202501\n",
      "Os06g0213551\n",
      "Os06g0216550\n",
      "Os06g0228850\n",
      "Os06g0243200\n",
      "Os06g0243250\n",
      "Os06g0249850\n",
      "Os06g0268350\n",
      "Os06g0299600\n",
      "Os06g0313381\n",
      "Os06g0314450\n",
      "Os06g0342875\n",
      "Os06g0362000\n",
      "Os06g0476300\n",
      "Os06g0495566\n",
      "Os06g0536466\n",
      "Os06g0539900\n",
      "Os06g0579200\n",
      "Os06g0609301\n",
      "Os06g0611750\n",
      "Os06g0644300\n",
      "Os06g0660600\n",
      "Os06g0662800\n",
      "Os06g0681050\n",
      "Os06g0682750\n",
      "Os06g0721187\n",
      "Os06g0721475\n",
      "Os06g0721700\n",
      "Os06g0722933\n",
      "Os06g0723525\n",
      "Os06g0727650\n",
      "Os07g0111301\n",
      "Os07g0115740\n",
      "Os07g0115760\n",
      "Os07g0121301\n",
      "Os07g0131200\n",
      "Os07g0139900\n",
      "Os07g0228350\n",
      "Os07g0237133\n",
      "Os07g0256000\n",
      "Os07g0265850\n",
      "Os07g0277066\n",
      "Os07g0485300\n",
      "Os07g0492900\n",
      "Os07g0501550\n",
      "Os07g0505200\n",
      "Os07g0576700\n",
      "Os07g0578866\n",
      "Os07g0583432\n",
      "Os07g0593266\n",
      "Os07g0594900\n",
      "Os07g0606425\n",
      "Os07g0622900\n",
      "Os07g0648200\n",
      "Os07g0650150\n",
      "Os07g0655000\n",
      "Os07g0655101\n",
      "Os07g0683700\n",
      "Os07g0690025\n",
      "Os07g0690100\n",
      "Os08g0121100\n",
      "Os08g0121250\n",
      "Os08g0125600\n",
      "Os08g0140850\n",
      "Os08g0170150\n",
      "Os08g0212475\n",
      "Os08g0238650\n",
      "Os08g0243833\n",
      "Os08g0255380\n",
      "Os08g0307540\n",
      "Os08g0323133\n",
      "Os08g0337500\n",
      "Os08g0346450\n",
      "Os08g0353950\n",
      "Os08g0377175\n",
      "Os08g0388001\n",
      "Os08g0428600\n",
      "Os08g0444420\n",
      "Os08g0474833\n",
      "Os08g0496650\n",
      "Os08g0519050\n",
      "Os08g0523633\n",
      "Os08g0552500\n",
      "Os09g0267350\n",
      "Os09g0314100\n",
      "Os09g0325180\n",
      "Os09g0348501\n",
      "Os09g0349901\n",
      "Os09g0350067\n",
      "Os09g0380350\n",
      "Os09g0405100\n",
      "Os09g0408500\n",
      "Os09g0411400\n",
      "Os09g0424800\n",
      "Os09g0447882\n",
      "Os09g0462901\n",
      "Os09g0512132\n",
      "Os09g0512300\n",
      "Os09g0512450\n",
      "Os09g0517850\n",
      "Os09g0521750\n",
      "Os09g0545125\n",
      "Os09g0545150\n",
      "Os09g0545175\n",
      "Os09g0545200\n",
      "Os09g0548034\n",
      "Os09g0550700\n",
      "Os09g0551150\n",
      "Os09g0555187\n",
      "Os09g0566000\n",
      "Os10g0116250\n",
      "Os10g0125400\n",
      "Os10g0126900\n",
      "Os10g0128800\n",
      "Os10g0129466\n",
      "Os10g0131050\n",
      "Os10g0156950\n",
      "Os10g0159350\n",
      "Os10g0162233\n",
      "Os10g0174933\n",
      "Os10g0187600\n",
      "Os10g0233310\n",
      "Os10g0321866\n",
      "Os10g0350400\n",
      "Os10g0351300\n",
      "Os10g0388550\n",
      "Os10g0392101\n",
      "Os10g0397466\n",
      "Os10g0410800\n",
      "Os10g0433500\n",
      "Os10g0439666\n",
      "Os10g0463450\n",
      "Os10g0468875\n",
      "Os10g0486950\n",
      "Os10g0511250\n",
      "Os10g0524832\n",
      "Os10g0550700\n",
      "Os10g0558150\n",
      "Os11g0117550\n",
      "Os11g0123023\n",
      "Os11g0173700\n",
      "Os11g0183350\n",
      "Os11g0205400\n",
      "Os11g0222440\n",
      "Os11g0225832\n",
      "Os11g0227350\n",
      "Os11g0233900\n",
      "Os11g0274232\n",
      "Os11g0274300\n",
      "Os11g0285466\n",
      "Os11g0286216\n",
      "Os11g0292750\n",
      "Os11g0294901\n",
      "Os11g0298900\n",
      "Os11g0312280\n",
      "Os11g0443900\n",
      "Os11g0474522\n",
      "Os11g0480300\n",
      "Os11g0520900\n",
      "Os11g0524400\n",
      "Os11g0549607\n",
      "Os11g0568750\n",
      "Os11g0572901\n",
      "Os11g0574216\n",
      "Os11g0578200\n",
      "Os11g0586800\n",
      "Os11g0609820\n",
      "Os11g0615400\n",
      "Os11g0619601\n",
      "Os11g0619701\n",
      "Os11g0646800\n",
      "Os11g0647800\n",
      "Os11g0663850\n",
      "Os11g0667600\n",
      "Os11g0668600\n",
      "Os11g0681200\n",
      "Os11g0691290\n",
      "Os12g0103450\n",
      "Os12g0109100\n",
      "Os12g0130150\n",
      "Os12g0131500\n",
      "Os12g0148301\n",
      "Os12g0161800\n",
      "Os12g0199600\n",
      "Os12g0211050\n",
      "Os12g0211200\n",
      "Os12g0240800\n",
      "Os12g0248700\n",
      "Os12g0407400\n",
      "Os12g0407600\n",
      "Os12g0413650\n",
      "Os12g0483300\n",
      "Os12g0512750\n",
      "Os12g0587133\n",
      "Os12g0587166\n",
      "Os12g0607950\n",
      "Os12g0608100\n",
      "Os12g0608800\n",
      "Os12g0612600\n"
     ]
    }
   ],
   "source": [
    "c=0\n",
    "for i in i_dict.keys():\n",
    "    if i not in id_dict.keys():\n",
    "        print(i)\n",
    "        c+=1"
   ]
  },
  {
   "cell_type": "code",
   "execution_count": 42,
   "metadata": {},
   "outputs": [
    {
     "data": {
      "text/plain": [
       "{'LOC_Os01g65120'}"
      ]
     },
     "execution_count": 42,
     "metadata": {},
     "output_type": "execute_result"
    }
   ],
   "source": [
    "i_dict[\"Os01g0871766\"]"
   ]
  },
  {
   "cell_type": "code",
   "execution_count": 12,
   "metadata": {},
   "outputs": [
    {
     "data": {
      "text/plain": [
       "0"
      ]
     },
     "execution_count": 12,
     "metadata": {},
     "output_type": "execute_result"
    }
   ],
   "source": [
    "c"
   ]
  },
  {
   "cell_type": "code",
   "execution_count": 11,
   "metadata": {},
   "outputs": [],
   "source": [
    "c=0\n",
    "for i in l_dict.keys():\n",
    "    if i not in loc_dict.keys():\n",
    "        print(i)\n",
    "        c+=1"
   ]
  },
  {
   "cell_type": "code",
   "execution_count": 41,
   "metadata": {},
   "outputs": [
    {
     "data": {
      "text/plain": [
       "'OsNippo01g358950'"
      ]
     },
     "execution_count": 41,
     "metadata": {},
     "output_type": "execute_result"
    }
   ],
   "source": [
    "loc_dict[\"LOC_Os01g60340\"]"
   ]
  },
  {
   "cell_type": "code",
   "execution_count": 35,
   "metadata": {},
   "outputs": [
    {
     "data": {
      "text/plain": [
       "'OsNippo01g010750'"
      ]
     },
     "execution_count": 35,
     "metadata": {},
     "output_type": "execute_result"
    }
   ],
   "source": [
    "id_dict[\"Os01g0101200\"]"
   ]
  },
  {
   "cell_type": "code",
   "execution_count": null,
   "metadata": {},
   "outputs": [],
   "source": [
    "{'OsNippo01g011750': {'oryzabase': {'CGSNL Gene Symbol': ' HAP5H ', 'Gene symbol synonym(s)': ' OsHAP5H OsNF-YC9 NF-YC9 NFYC9 ', 'CGSNL Gene Name': ' HAP5H SUBUNIT OF CCAAT-BOX BINDING COMPLEX ', 'Gene name synonym(s)': ' NUCLEAR FACTOR-Y subunit C9 NUCLEAR FACTOR-Y subunit NF-YC9 NF-YC transcription factor 9 NF-YC subunit 9 NF-YC family 9 ', 'Chr. No.': ' 1 ', 'Trait Class': ' Other ', 'Gene Ontology': ' GO:0005737 - cytoplasm GO:0005634 - nucleus GO:0003677 - DNA binding ', 'Trait Ontology': ' ', 'Plant Ontology': ' PO:0009089 - endosperm ', 'RAP ID': ' Os01g0102400 Oryzabase ( IRGSP 1.0 / Build5 ) Rap ( IRGSP 1.0 / Build5 ) ', 'Mutant Image': ' '}}, 'OsNippo01g011700': {}, 'OsNippo01g010450': {'oryzabase': {'CGSNL Gene Symbol': ' _ ', 'Gene symbol synonym(s)': ' RPS5 ', 'CGSNL Gene Name': ' _ ', 'Gene name synonym(s)': ' ribosomal protein S5 ribosomal protein small subunit 5 ', 'Chr. No.': ' 1 ', 'Trait Class': ' Tolerance and resistance - Disease resistance Tolerance and resistance - Stress tolerance Other ', 'Gene Ontology': ' GO:0000028 - ribosomal small subunit assembly GO:0003729 - mRNA binding GO:0003735 - structural constituent of ribosome GO:0006412 - translation GO:0009414 - response to water deprivation GO:0009651 - response to salt stress GO:0009737 - response to abscisic acid stimulus GO:0019843 - rRNA binding GO:0022627 - cytosolic small ribosomal subunit GO:0042542 - response to hydrogen peroxide GO:0050832 - defense response to fungus ', 'Trait Ontology': ' TO:0000615 - abscisic acid sensitivity TO:0000276 - drought tolerance TO:0006001 - salt tolerance TO:0002657 - oxidative stress TO:0000255 - sheath blight disease resistance ', 'Plant Ontology': ' ', 'RAP ID': ' Os01g0100700 Oryzabase ( IRGSP 1.0 / Build5 ) Rap ( IRGSP 1.0 / Build5 ) ', 'Mutant Image': ' '}}, 'OsNippo01g010350': {}, 'OsNippo01g010550': {'oryzabase': {'CGSNL Gene Symbol': ' _ ', 'Gene symbol synonym(s)': ' OsSPL OsSPL1 ', 'CGSNL Gene Name': ' _ ', 'Gene name synonym(s)': ' Sphingosine-1-phosphate lyase sphingosine-1-phosphate lyase 1 ', 'Chr. No.': ' 1 ', 'Trait Class': ' Biochemical character Tolerance and resistance - Disease resistance ', 'Gene Ontology': ' GO:0019752 - carboxylic acid metabolic process GO:0005789 - endoplasmic reticulum membrane GO:0016831 - carboxy-lyase activity GO:0043161 - proteasomal ubiquitin-dependent protein catabolic process GO:0080129 - proteasome core complex assembly GO:0016021 - integral to membrane GO:0006665 - sphingolipid metabolic process GO:0006915 - apoptosis GO:0009407 - toxin catabolic process GO:0008117 - sphinganine-1-phosphate aldolase activity GO:0030149 - sphingolipid catabolic process GO:0009751 - response to salicylic acid stimulus GO:0051788 - response to misfolded protein GO:0050832 - defense response to fungus GO:0030170 - pyridoxal phosphate binding GO:0006888 - ER to Golgi vesicle-mediated transport GO:0006635 - fatty acid beta-oxidation ', 'Trait Ontology': ' TO:0000401 - plant growth hormone sensitivity TO:0000074 - blast disease ', 'Plant Ontology': ' ', 'RAP ID': ' Os01g0100900 Oryzabase ( IRGSP 1.0 / Build5 ) Rap ( IRGSP 1.0 / Build5 ) ', 'Mutant Image': ' '}}, 'OsNippo01g010200': {}, 'OsNippo01g010050': {}, 'OsNippo01g010300': {}, 'OsNippo08g047400': {}, 'OsNippo07g234650': {'oryzabase': {'CGSNL Gene Symbol': ' GELP92 ', 'Gene symbol synonym(s)': ' OsGELP92 OsGELP92a OsGELP92b OsGELP92c AChE ', 'CGSNL Gene Name': ' GDSL ESTERASE/LIPASE PROTEIN 92 ', 'Gene name synonym(s)': ' GDSL esterase/lipase protein 92 acetylcholinesterase ', 'Chr. No.': ' 7 ', 'Trait Class': ' Biochemical character Tolerance and resistance - Stress tolerance ', 'Gene Ontology': ' GO:0004560 - alpha-L-fucosidase activity GO:0006629 - lipid metabolic process GO:0009505 - plant-type cell wall GO:0009629 - response to gravity GO:0009630 - gravitropism GO:0016788 - hydrolase activity, acting on ester bonds ', 'Trait Ontology': ' TO:0002693 - gravity response trait ', 'Plant Ontology': ' ', 'RAP ID': ' Os07g0586200 Oryzabase ( IRGSP 1.0 / Build5 ) Rap ( IRGSP 1.0 / Build5 ) ', 'Mutant Image': ' '}}, 'OsNippo01g011800': {}, 'OsNippo01g010150': {}, 'OsNippo01g010500': {}}"
   ]
  }
 ],
 "metadata": {
  "kernelspec": {
   "display_name": "Python 3",
   "language": "python",
   "name": "python3"
  },
  "language_info": {
   "codemirror_mode": {
    "name": "ipython",
    "version": 3
   },
   "file_extension": ".py",
   "mimetype": "text/x-python",
   "name": "python",
   "nbconvert_exporter": "python",
   "pygments_lexer": "ipython3",
   "version": "3.6.7"
  }
 },
 "nbformat": 4,
 "nbformat_minor": 2
}

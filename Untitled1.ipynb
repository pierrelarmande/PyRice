{
 "cells": [
  {
   "cell_type": "code",
   "execution_count": 3,
   "metadata": {},
   "outputs": [],
   "source": [
    "from multiprocessing import Process,Lock,Manager,active_children,Pool,cpu_count\n",
    "from bs4 import BeautifulSoup\n",
    "import helper\n",
    "import json\n",
    "import regex,re\n",
    "import requests\n",
    "import time\n",
    "import pickle\n",
    "import csv\n",
    "import pandas as pd\n",
    "import os\n",
    "import copy\n",
    "import json2table\n",
    "from IPython.display import HTML\n",
    "import random"
   ]
  },
  {
   "cell_type": "code",
   "execution_count": 4,
   "metadata": {},
   "outputs": [],
   "source": [
    "def query(result,value,db,a):\n",
    "    for i in range(a):\n",
    "        a+=a*2\n",
    "#             a+=1\n",
    "#             print(value+\" - \"+str(time.time()))\n",
    "    result[value].setdefault(db,a)\n",
    "\n",
    "class MultiQuery():\n",
    "    def __init__(self):\n",
    "        self.result = None\n",
    "#     def query(self,value,db,a):\n",
    "#         for i in range(a):\n",
    "#             a+=a*2\n",
    "# #             a+=1\n",
    "# #             print(value+\" - \"+str(time.time()))\n",
    "#         self.result[value].setdefault(db,a)\n",
    "        \n",
    "    def query_iric(self,file_id,number_process,dbs = 'all'):\n",
    "        support_db = [\"oryzabase\", \"gramene\", \"funricegene_genekeywords\",\n",
    "                   \"funricegene_faminfo\", \"msu\", \"rapdb\", \"ic4r\",\n",
    "                   \"funricegene_geneinfo\"]\n",
    "        if dbs == 'all':\n",
    "            name_db = support_db\n",
    "        else:\n",
    "            name_db=[]\n",
    "            for db in dbs:\n",
    "                if db not in support_db:\n",
    "                    print(\"Don't support databse: \", db)\n",
    "                else:\n",
    "                    name_db.append(db)\n",
    "        manager = Manager()\n",
    "        self.result = manager.dict()\n",
    "        number_query = len(file_id)\n",
    "        try:\n",
    "            p = Pool(processes=number_process) #number_core*2\n",
    "            for value in file_id:\n",
    "                self.result.setdefault(value,manager.dict())\n",
    "                for db in name_db:\n",
    "#                     p.apply_async(self.query, args=(value,db,10000))\n",
    "                    p.apply_async(query, args=(self.result,value,db,10000))\n",
    "                    #print(\"Query iricname: {} --- Gene {}/{}\".format(value, value, number_query))\n",
    "        finally:\n",
    "            p.close()\n",
    "            p.join()\n",
    "        #change format to save file\n",
    "        demo = dict()\n",
    "        for key, value in self.result.items():\n",
    "            demo.setdefault(key, dict())\n",
    "            for subdb, data in value.items():\n",
    "                demo[key].setdefault(subdb, data)\n",
    "        self.result = demo\n",
    "        return self.result"
   ]
  },
  {
   "cell_type": "code",
   "execution_count": 20,
   "metadata": {},
   "outputs": [
    {
     "name": "stdout",
     "output_type": "stream",
     "text": [
      "4.718310832977295\n"
     ]
    }
   ],
   "source": [
    "test = MultiQuery()\n",
    "t = time.time()\n",
    "db = test.query_iric([str(i) for i in range(100)],number_process = cpu_count()*2,dbs='all')\n",
    "print(time.time()-t)"
   ]
  },
  {
   "cell_type": "code",
   "execution_count": 21,
   "metadata": {},
   "outputs": [
    {
     "name": "stdout",
     "output_type": "stream",
     "text": [
      "4.379508972167969\n"
     ]
    }
   ],
   "source": [
    "test = MultiQuery()\n",
    "t = time.time()\n",
    "db = test.query_iric([str(i) for i in range(100)],number_process = cpu_count(),dbs='all')\n",
    "print(time.time()-t)"
   ]
  },
  {
   "cell_type": "code",
   "execution_count": 22,
   "metadata": {},
   "outputs": [
    {
     "name": "stdout",
     "output_type": "stream",
     "text": [
      "6.258463144302368\n"
     ]
    }
   ],
   "source": [
    "test = MultiQuery()\n",
    "t = time.time()\n",
    "db = test.query_iric([str(i) for i in range(100)],number_process = 2,dbs='all')\n",
    "print(time.time()-t)"
   ]
  },
  {
   "cell_type": "code",
   "execution_count": null,
   "metadata": {},
   "outputs": [],
   "source": [
    "db"
   ]
  },
  {
   "cell_type": "code",
   "execution_count": null,
   "metadata": {},
   "outputs": [],
   "source": []
  }
 ],
 "metadata": {
  "kernelspec": {
   "display_name": "Python 3",
   "language": "python",
   "name": "python3"
  },
  "language_info": {
   "codemirror_mode": {
    "name": "ipython",
    "version": 3
   },
   "file_extension": ".py",
   "mimetype": "text/x-python",
   "name": "python",
   "nbconvert_exporter": "python",
   "pygments_lexer": "ipython3",
   "version": "3.6.7"
  }
 },
 "nbformat": 4,
 "nbformat_minor": 2
}

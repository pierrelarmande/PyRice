{
 "cells": [
  {
   "cell_type": "code",
   "execution_count": 1,
   "metadata": {},
   "outputs": [],
   "source": [
    "from multiprocessing import Pool,Manager"
   ]
  },
  {
   "cell_type": "code",
   "execution_count": 2,
   "metadata": {},
   "outputs": [],
   "source": [
    "class MultiQuery():\n",
    "    def __init__(self):\n",
    "        self.result = None\n",
    "        \n",
    "    def f(self,iric,db,v):\n",
    "        print(iric,v,db)\n",
    "        for i in range(10000000):\n",
    "            v+=1\n",
    "        self.result[iric].setdefault(db,v)\n",
    "    \n",
    "    def query(self,dic):\n",
    "        p = Pool(processes=100)\n",
    "        manager = Manager()\n",
    "        self.result = dict()\n",
    "        for k,v in dic.items():\n",
    "            self.result.setdefault(k,manager.dict())\n",
    "            for ident in v[\"a\"]:\n",
    "                p.apply_async(self.f, args=(k,\"a\",ident,))\n",
    "            for ident in v[\"b\"]:\n",
    "                p.apply_async(self.f, args=(k,\"b\",ident,))\n",
    "        p.close()\n",
    "        p.join()\n",
    "        return self.result"
   ]
  },
  {
   "cell_type": "code",
   "execution_count": 3,
   "metadata": {},
   "outputs": [
    {
     "name": "stdout",
     "output_type": "stream",
     "text": [
      "iric1 1 a\n",
      "iric1 3 b\n",
      "iric2 5 a\n",
      "iric2 7 b\n"
     ]
    }
   ],
   "source": [
    "if __name__ == \"__main__\":\n",
    "    d = {\"iric1\":{\"a\":{1},\"b\":{3}},\"iric2\":{\"a\":{5},\"b\":{7}}}\n",
    "    test = MultiQuery()\n",
    "    res = test.query(d)"
   ]
  },
  {
   "cell_type": "code",
   "execution_count": 5,
   "metadata": {},
   "outputs": [
    {
     "name": "stdout",
     "output_type": "stream",
     "text": [
      "iric1 {'a': 10000001, 'b': 10000003}\n",
      "iric2 {'a': 10000005, 'b': 10000007}\n"
     ]
    }
   ],
   "source": [
    "for k,v in res.items():\n",
    "    print(k,v)"
   ]
  },
  {
   "cell_type": "code",
   "execution_count": null,
   "metadata": {},
   "outputs": [],
   "source": []
  },
  {
   "cell_type": "code",
   "execution_count": null,
   "metadata": {},
   "outputs": [],
   "source": [
    "from multiprocessing import Pool\n",
    "\n",
    "def function(parm1, parm2, parm3):  # Function that is called during multiprocessing.\n",
    "    print (parm1, parm2, parm3)\n",
    "    print( parm1 * parm2 * parm3)\n",
    "    return parm1 * parm2 * parm3\n",
    "\n",
    "def store_info(a):  # The callback function.\n",
    "    print (a)\n",
    "\n",
    "if __name__ == \"__main__\":\n",
    "    # Dictionary with dictionaries of parameters:\n",
    "    my_dict = {\"one\":{\"parm1\":1, \"parm2\":2, \"parm3\":3}, \"two\":{\"parm1\":4, \"parm2\":5, \"parm3\":6}, \"three\":{\"parm1\":7, \"parm2\":8, \"parm3\":9}}\n",
    "\n",
    "    p = Pool(4)  # Setting up the number of CPU's to use.\n",
    "\n",
    "    for key, params_dict in my_dict.items():  # For loop used to separate keys from values.\n",
    "        print (params_dict)\n",
    "        p.apply_async(function, args=tuple(), kwds=params_dict, callback=store_info)\n",
    "\n",
    "    p.close()\n",
    "    p.join()"
   ]
  },
  {
   "cell_type": "code",
   "execution_count": null,
   "metadata": {},
   "outputs": [],
   "source": [
    "type(d)\n"
   ]
  },
  {
   "cell_type": "code",
   "execution_count": null,
   "metadata": {},
   "outputs": [],
   "source": []
  }
 ],
 "metadata": {
  "kernelspec": {
   "display_name": "Python 3",
   "language": "python",
   "name": "python3"
  },
  "language_info": {
   "codemirror_mode": {
    "name": "ipython",
    "version": 3
   },
   "file_extension": ".py",
   "mimetype": "text/x-python",
   "name": "python",
   "nbconvert_exporter": "python",
   "pygments_lexer": "ipython3",
   "version": "3.6.7"
  }
 },
 "nbformat": 4,
 "nbformat_minor": 2
}

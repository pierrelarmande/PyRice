{
 "cells": [
  {
   "cell_type": "code",
   "execution_count": 1,
   "metadata": {},
   "outputs": [],
   "source": [
    "from multiprocessing import Pool,Manager"
   ]
  },
  {
   "cell_type": "code",
   "execution_count": 2,
   "metadata": {},
   "outputs": [],
   "source": [
    "class MultiQuery():\n",
    "    def __init__(self):\n",
    "        self.result = None\n",
    "        \n",
    "    def f(self,iric,db,v):\n",
    "        print(iric,v,db)\n",
    "        for i in range(10000000):\n",
    "            v+=1\n",
    "        self.result[iric].setdefault(db,v)\n",
    "    \n",
    "    def query(self,dic):\n",
    "        p = Pool(processes=100)\n",
    "        manager = Manager()\n",
    "        self.result = dict()\n",
    "        for k,v in dic.items():\n",
    "            self.result.setdefault(k,manager.dict())\n",
    "            for ident in v[\"a\"]:\n",
    "                p.apply_async(self.f, args=(k,\"a\",ident,))\n",
    "            for ident in v[\"b\"]:\n",
    "                p.apply_async(self.f, args=(k,\"b\",ident,))\n",
    "        p.close()\n",
    "        p.join()\n",
    "        return self.result"
   ]
  },
  {
   "cell_type": "code",
   "execution_count": 3,
   "metadata": {},
   "outputs": [
    {
     "name": "stdout",
     "output_type": "stream",
     "text": [
      "iric1 1 a\n",
      "iric1 3 b\n",
      "iric2 5 a\n",
      "iric2 7 b\n"
     ]
    }
   ],
   "source": [
    "if __name__ == \"__main__\":\n",
    "    d = {\"iric1\":{\"a\":{1},\"b\":{3}},\"iric2\":{\"a\":{5},\"b\":{7}}}\n",
    "    test = MultiQuery()\n",
    "    res = test.query(d)"
   ]
  },
  {
   "cell_type": "code",
   "execution_count": 5,
   "metadata": {},
   "outputs": [
    {
     "name": "stdout",
     "output_type": "stream",
     "text": [
      "iric1 {'a': 10000001, 'b': 10000003}\n",
      "iric2 {'a': 10000005, 'b': 10000007}\n"
     ]
    }
   ],
   "source": [
    "for k,v in res.items():\n",
    "    print(k,v)"
   ]
  },
  {
   "cell_type": "code",
   "execution_count": null,
   "metadata": {},
   "outputs": [],
   "source": []
  },
  {
   "cell_type": "code",
   "execution_count": null,
   "metadata": {},
   "outputs": [],
   "source": [
    "from multiprocessing import Pool\n",
    "\n",
    "def function(parm1, parm2, parm3):  # Function that is called during multiprocessing.\n",
    "    print (parm1, parm2, parm3)\n",
    "    print( parm1 * parm2 * parm3)\n",
    "    return parm1 * parm2 * parm3\n",
    "\n",
    "def store_info(a):  # The callback function.\n",
    "    print (a)\n",
    "\n",
    "if __name__ == \"__main__\":\n",
    "    # Dictionary with dictionaries of parameters:\n",
    "    my_dict = {\"one\":{\"parm1\":1, \"parm2\":2, \"parm3\":3}, \"two\":{\"parm1\":4, \"parm2\":5, \"parm3\":6}, \"three\":{\"parm1\":7, \"parm2\":8, \"parm3\":9}}\n",
    "\n",
    "    p = Pool(4)  # Setting up the number of CPU's to use.\n",
    "\n",
    "    for key, params_dict in my_dict.items():  # For loop used to separate keys from values.\n",
    "        print (params_dict)\n",
    "        p.apply_async(function, args=tuple(), kwds=params_dict, callback=store_info)\n",
    "\n",
    "    p.close()\n",
    "    p.join()"
   ]
  },
  {
   "cell_type": "code",
   "execution_count": null,
   "metadata": {},
   "outputs": [],
   "source": [
    "type(d)\n"
   ]
  },
  {
   "cell_type": "code",
   "execution_count": null,
   "metadata": {},
   "outputs": [],
   "source": []
  },
  {
   "cell_type": "code",
   "execution_count": 24,
   "metadata": {},
   "outputs": [],
   "source": [
    "from IPython.display import HTML\n",
    "import pandas as pd\n",
    "\n",
    "d = {\"a\":{1:2},\"b\":{1:2},\"c\":{1:2},\"d\":{1:2},\"e\":{1:2}}\n",
    "df = pd.DataFrame.from_dict(d, orient='index')"
   ]
  },
  {
   "cell_type": "code",
   "execution_count": 29,
   "metadata": {},
   "outputs": [
    {
     "data": {
      "text/plain": [
       "Index(['a', 'b', 'c', 'd', 'e'], dtype='object')"
      ]
     },
     "execution_count": 29,
     "metadata": {},
     "output_type": "execute_result"
    }
   ],
   "source": [
    "df.index"
   ]
  },
  {
   "cell_type": "code",
   "execution_count": 39,
   "metadata": {},
   "outputs": [
    {
     "data": {
      "text/plain": [
       "a    2\n",
       "b    2\n",
       "c    2\n",
       "d    2\n",
       "e    2\n",
       "Name: 1, dtype: int64"
      ]
     },
     "execution_count": 39,
     "metadata": {},
     "output_type": "execute_result"
    }
   ],
   "source": [
    "df[1]"
   ]
  },
  {
   "cell_type": "code",
   "execution_count": 35,
   "metadata": {},
   "outputs": [],
   "source": [
    "temp = pd.Series(df.index.tolist())"
   ]
  },
  {
   "cell_type": "code",
   "execution_count": 38,
   "metadata": {},
   "outputs": [
    {
     "data": {
      "text/plain": [
       "<bound method Series.cov of 0    a\n",
       "1    b\n",
       "2    c\n",
       "3    d\n",
       "4    e\n",
       "dtype: object>"
      ]
     },
     "execution_count": 38,
     "metadata": {},
     "output_type": "execute_result"
    }
   ],
   "source": [
    "temp.cov"
   ]
  },
  {
   "cell_type": "code",
   "execution_count": 42,
   "metadata": {},
   "outputs": [],
   "source": [
    "temp = temp.apply(lambda x: '<a href=\"http://example.com/{0}\">link</a>'.format(x))"
   ]
  },
  {
   "cell_type": "code",
   "execution_count": 40,
   "metadata": {},
   "outputs": [],
   "source": [
    "df[1] = df[1].apply(lambda x: '<a href=\"http://example.com/{0}\">link</a>'.format(x))"
   ]
  },
  {
   "cell_type": "code",
   "execution_count": 48,
   "metadata": {},
   "outputs": [
    {
     "data": {
      "text/plain": [
       "'<table border=\"1\" class=\"dataframe\">\\n  <thead>\\n    <tr style=\"text-align: right;\">\\n      <th></th>\\n      <th>1</th>\\n    </tr>\\n  </thead>\\n  <tbody>\\n    <tr>\\n      <th><a href=\"http://example.com/a\">link</a></th>\\n      <td><a href=\"http://example.com/2\">link</a></td>\\n    </tr>\\n    <tr>\\n      <th><a href=\"http://example.com/b\">link</a></th>\\n      <td><a href=\"http://example.com/2\">link</a></td>\\n    </tr>\\n    <tr>\\n      <th><a href=\"http://example.com/c\">link</a></th>\\n      <td><a href=\"http://example.com/2\">link</a></td>\\n    </tr>\\n    <tr>\\n      <th><a href=\"http://example.com/d\">link</a></th>\\n      <td><a href=\"http://example.com/2\">link</a></td>\\n    </tr>\\n    <tr>\\n      <th><a href=\"http://example.com/e\">link</a></th>\\n      <td><a href=\"http://example.com/2\">link</a></td>\\n    </tr>\\n  </tbody>\\n</table>'"
      ]
     },
     "execution_count": 48,
     "metadata": {},
     "output_type": "execute_result"
    }
   ],
   "source": [
    "df.to_html(escape=False)"
   ]
  },
  {
   "cell_type": "code",
   "execution_count": 46,
   "metadata": {},
   "outputs": [],
   "source": [
    "df.index = temp"
   ]
  },
  {
   "cell_type": "code",
   "execution_count": 49,
   "metadata": {},
   "outputs": [
    {
     "data": {
      "text/html": [
       "<div>\n",
       "<style scoped>\n",
       "    .dataframe tbody tr th:only-of-type {\n",
       "        vertical-align: middle;\n",
       "    }\n",
       "\n",
       "    .dataframe tbody tr th {\n",
       "        vertical-align: top;\n",
       "    }\n",
       "\n",
       "    .dataframe thead th {\n",
       "        text-align: right;\n",
       "    }\n",
       "</style>\n",
       "<table border=\"1\" class=\"dataframe\">\n",
       "  <thead>\n",
       "    <tr style=\"text-align: right;\">\n",
       "      <th></th>\n",
       "      <th>1</th>\n",
       "    </tr>\n",
       "  </thead>\n",
       "  <tbody>\n",
       "    <tr>\n",
       "      <th>&lt;a href=\"http://example.com/a\"&gt;link&lt;/a&gt;</th>\n",
       "      <td>&lt;a href=\"http://example.com/2\"&gt;link&lt;/a&gt;</td>\n",
       "    </tr>\n",
       "    <tr>\n",
       "      <th>&lt;a href=\"http://example.com/b\"&gt;link&lt;/a&gt;</th>\n",
       "      <td>&lt;a href=\"http://example.com/2\"&gt;link&lt;/a&gt;</td>\n",
       "    </tr>\n",
       "    <tr>\n",
       "      <th>&lt;a href=\"http://example.com/c\"&gt;link&lt;/a&gt;</th>\n",
       "      <td>&lt;a href=\"http://example.com/2\"&gt;link&lt;/a&gt;</td>\n",
       "    </tr>\n",
       "    <tr>\n",
       "      <th>&lt;a href=\"http://example.com/d\"&gt;link&lt;/a&gt;</th>\n",
       "      <td>&lt;a href=\"http://example.com/2\"&gt;link&lt;/a&gt;</td>\n",
       "    </tr>\n",
       "    <tr>\n",
       "      <th>&lt;a href=\"http://example.com/e\"&gt;link&lt;/a&gt;</th>\n",
       "      <td>&lt;a href=\"http://example.com/2\"&gt;link&lt;/a&gt;</td>\n",
       "    </tr>\n",
       "  </tbody>\n",
       "</table>\n",
       "</div>"
      ],
      "text/plain": [
       "                                                                               1\n",
       "<a href=\"http://example.com/a\">link</a>  <a href=\"http://example.com/2\">link</a>\n",
       "<a href=\"http://example.com/b\">link</a>  <a href=\"http://example.com/2\">link</a>\n",
       "<a href=\"http://example.com/c\">link</a>  <a href=\"http://example.com/2\">link</a>\n",
       "<a href=\"http://example.com/d\">link</a>  <a href=\"http://example.com/2\">link</a>\n",
       "<a href=\"http://example.com/e\">link</a>  <a href=\"http://example.com/2\">link</a>"
      ]
     },
     "execution_count": 49,
     "metadata": {},
     "output_type": "execute_result"
    }
   ],
   "source": [
    "df"
   ]
  },
  {
   "cell_type": "code",
   "execution_count": 51,
   "metadata": {},
   "outputs": [
    {
     "data": {
      "text/plain": [
       "<IPython.core.display.HTML object>"
      ]
     },
     "execution_count": 51,
     "metadata": {},
     "output_type": "execute_result"
    }
   ],
   "source": [
    "HTML(df.to_html(\"./demo.html\",escape=False))"
   ]
  },
  {
   "cell_type": "code",
   "execution_count": 22,
   "metadata": {},
   "outputs": [
    {
     "data": {
      "text/html": [
       "<style  type=\"text/css\" >\n",
       "</style>  \n",
       "<table id=\"T_9dee509e_3fee_11e9_bf1c_9801a78b13f5\" > \n",
       "<thead>    <tr> \n",
       "        <th class=\"blank level0\" ></th> \n",
       "        <th class=\"col_heading level0 col0\" >0</th> \n",
       "    </tr></thead> \n",
       "<tbody>    <tr> \n",
       "        <th id=\"T_9dee509e_3fee_11e9_bf1c_9801a78b13f5level0_row0\" class=\"row_heading level0 row0\" >0</th> \n",
       "        <td id=\"T_9dee509e_3fee_11e9_bf1c_9801a78b13f5row0_col0\" class=\"data row0 col0\" ><a href=\"http://google.com\">http://google.com</a></td> \n",
       "    </tr>    <tr> \n",
       "        <th id=\"T_9dee509e_3fee_11e9_bf1c_9801a78b13f5level0_row1\" class=\"row_heading level0 row1\" >1</th> \n",
       "        <td id=\"T_9dee509e_3fee_11e9_bf1c_9801a78b13f5row1_col0\" class=\"data row1 col0\" ><a href=\"http://duckduckgo.com\">http://duckduckgo.com</a></td> \n",
       "    </tr></tbody> \n",
       "</table> "
      ],
      "text/plain": [
       "<pandas.io.formats.style.Styler at 0x119467a20>"
      ]
     },
     "execution_count": 22,
     "metadata": {},
     "output_type": "execute_result"
    }
   ],
   "source": [
    "df = pd.DataFrame(['http://google.com', 'http://duckduckgo.com'])\n",
    "\n",
    "def make_clickable(val):\n",
    "    return '<a href=\"{}\">{}</a>'.format(val,val)\n",
    "\n",
    "df.style.format(make_clickable)\n"
   ]
  },
  {
   "cell_type": "code",
   "execution_count": 1,
   "metadata": {},
   "outputs": [
    {
     "data": {
      "text/plain": [
       "'/Users/mac/PyRice/gene'"
      ]
     },
     "execution_count": 1,
     "metadata": {},
     "output_type": "execute_result"
    }
   ],
   "source": [
    "import os\n",
    "os.path.abspath(\"./gene\")"
   ]
  },
  {
   "cell_type": "code",
   "execution_count": null,
   "metadata": {},
   "outputs": [],
   "source": []
  }
 ],
 "metadata": {
  "kernelspec": {
   "display_name": "Python 3",
   "language": "python",
   "name": "python3"
  },
  "language_info": {
   "codemirror_mode": {
    "name": "ipython",
    "version": 3
   },
   "file_extension": ".py",
   "mimetype": "text/x-python",
   "name": "python",
   "nbconvert_exporter": "python",
   "pygments_lexer": "ipython3",
   "version": "3.6.7"
  }
 },
 "nbformat": 4,
 "nbformat_minor": 2
}

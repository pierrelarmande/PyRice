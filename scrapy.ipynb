{
 "cells": [
  {
   "cell_type": "code",
   "execution_count": 1,
   "metadata": {},
   "outputs": [],
   "source": [
    "from MultiQuery import MultiQuery\n",
    "import time\n",
    "import pandas as pd\n",
    "from helper import *"
   ]
  },
  {
   "cell_type": "code",
   "execution_count": null,
   "metadata": {},
   "outputs": [],
   "source": [
    "#Search_gene\n",
    "t = time.time()\n",
    "test = MultiQuery()\n",
    "db = test.query_iric(chro=\"chr01\", start_pos=\"1\",end_pos=\"10000\",dbs=[\"ic4r\"])\n",
    "test.save_file(db,save_path=\"./demo/\",format=[\"csv\",\"html\",\"json\",\"pkl\"],hyper_link=False)\n",
    "print(\"Time for search gene:\",time.time() - t)\n",
    "print(\"Ouput file\",file_id)"
   ]
  },
  {
   "cell_type": "code",
   "execution_count": null,
   "metadata": {},
   "outputs": [],
   "source": [
    "#http://expression.ic4r.org/api/fpkm?gene=Os03g0100010"
   ]
  },
  {
   "cell_type": "code",
   "execution_count": 2,
   "metadata": {},
   "outputs": [
    {
     "name": "stdout",
     "output_type": "stream",
     "text": [
      "Query iricname: OsNippo03g010050 --- Gene 1/1\n",
      "{'Os03g0100010'} {'LOC_Os03g01008'}\n",
      "Time for search gene: 17.67673397064209\n"
     ]
    }
   ],
   "source": [
    "t = time.time()\n",
    "test = MultiQuery()\n",
    "db = test.query_ids_locs(idents=[\"Os03g0100010\"],locs=[],irics=[],dbs=\"all\")\n",
    "test.save_file(db,save_path=\"./demo/\",format=[\"csv\",\"html\",\"json\",\"pkl\"],hyper_link=False)\n",
    "print(\"Time for search gene:\",time.time() - t)"
   ]
  },
  {
   "cell_type": "code",
   "execution_count": null,
   "metadata": {},
   "outputs": [],
   "source": []
  }
 ],
 "metadata": {
  "kernelspec": {
   "display_name": "Python 3",
   "language": "python",
   "name": "python3"
  },
  "language_info": {
   "codemirror_mode": {
    "name": "ipython",
    "version": 3
   },
   "file_extension": ".py",
   "mimetype": "text/x-python",
   "name": "python",
   "nbconvert_exporter": "python",
   "pygments_lexer": "ipython3",
   "version": "3.6.7"
  }
 },
 "nbformat": 4,
 "nbformat_minor": 2
}

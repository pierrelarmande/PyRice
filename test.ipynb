{
 "cells": [
  {
   "cell_type": "code",
   "execution_count": 1,
   "metadata": {},
   "outputs": [],
   "source": [
    "from MultiQuery import MultiQuery\n",
    "import time\n",
    "import pandas as pd\n",
    "from helper import *"
   ]
  },
  {
   "cell_type": "code",
   "execution_count": 2,
   "metadata": {},
   "outputs": [
    {
     "name": "stdout",
     "output_type": "stream",
     "text": [
      "Time for search gene: 8.676432847976685\n",
      "Ouput file {'OsNippo01g010050': {'msu7Name': {'LOC_Os01g01010'}, 'raprepName': {'Os01g0100100'}, 'contig': 'chr01', 'fmin': 2982, 'fmax': 10815}, 'OsNippo01g010150': {'msu7Name': {'LOC_Os01g01019'}, 'raprepName': {'Os01g0100200'}, 'contig': 'chr01', 'fmin': 11217, 'fmax': 12435}, 'OsNippo01g010100': {'msu7Name': set(), 'raprepName': {'Os01g0100300'}, 'contig': 'chr01', 'fmin': 11371, 'fmax': 12284}, 'OsNippo01g010200': {'msu7Name': {'LOC_Os01g01030'}, 'raprepName': {'Os01g0100400'}, 'contig': 'chr01', 'fmin': 12720, 'fmax': 15685}, 'OsNippo01g010250': {'msu7Name': set(), 'raprepName': {'Os01g0100466'}, 'contig': 'chr01', 'fmin': 12807, 'fmax': 13978}, 'OsNippo01g010300': {'msu7Name': {'LOC_Os01g01040'}, 'raprepName': {'Os01g0100500'}, 'contig': 'chr01', 'fmin': 16398, 'fmax': 20144}, 'OsNippo01g010350': {'msu7Name': {'LOC_Os01g01050'}, 'raprepName': {'Os01g0100600'}, 'contig': 'chr01', 'fmin': 22840, 'fmax': 26892}, 'OsNippo01g010400': {'msu7Name': set(), 'raprepName': {'Os01g0100650'}, 'contig': 'chr01', 'fmin': 25860, 'fmax': 26424}, 'OsNippo01g010450': {'msu7Name': {'LOC_Os01g01060'}, 'raprepName': {'Os01g0100700'}, 'contig': 'chr01', 'fmin': 27142, 'fmax': 28644}, 'OsNippo01g010500': {'msu7Name': {'LOC_Os01g01070'}, 'raprepName': {'Os01g0100800'}, 'contig': 'chr01', 'fmin': 29817, 'fmax': 34453}}\n"
     ]
    }
   ],
   "source": [
    "#Search_gene\n",
    "t = time.time()\n",
    "test = MultiQuery()\n",
    "file_id = test.search_gene(chro=\"chr01\", start_pos=\"1\",\n",
    "                        end_pos=\"30000\",dbs=\"all\",save_path=\"./result\")\n",
    "print(\"Time for search gene:\",time.time() - t)\n",
    "print(\"Ouput file\",file_id)"
   ]
  },
  {
   "cell_type": "code",
   "execution_count": 6,
   "metadata": {},
   "outputs": [
    {
     "name": "stdout",
     "output_type": "stream",
     "text": [
      "Query iricname: OsNippo01g010050 --- Gene 1/27\n",
      "Query iricname: OsNippo01g010150 --- Gene 2/27\n",
      "Query iricname: OsNippo01g010100 --- Gene 3/27\n",
      "Query iricname: OsNippo01g010200 --- Gene 4/27\n",
      "Query iricname: OsNippo01g010250 --- Gene 5/27\n",
      "Query iricname: OsNippo01g010300 --- Gene 6/27\n",
      "Query iricname: OsNippo01g010350 --- Gene 7/27\n",
      "Query iricname: OsNippo01g010400 --- Gene 8/27\n",
      "Query iricname: OsNippo01g010450 --- Gene 9/27\n",
      "Query iricname: OsNippo01g010500 --- Gene 10/27\n",
      "Query iricname: OsNippo01g010550 --- Gene 11/27\n",
      "Query iricname: OsNippo01g010800 --- Gene 12/27\n",
      "Query iricname: OsNippo01g010850 --- Gene 13/27\n",
      "Query iricname: OsNippo01g010900 --- Gene 14/27\n",
      "Query iricname: OsNippo01g010950 --- Gene 15/27\n",
      "Query iricname: OsNippo01g011050 --- Gene 16/27\n",
      "Query iricname: OsNippo01g011100 --- Gene 17/27\n",
      "Query iricname: OsNippo01g011150 --- Gene 18/27\n",
      "Query iricname: OsNippo01g011200 --- Gene 19/27\n",
      "Query iricname: OsNippo01g011250 --- Gene 20/27\n",
      "Query iricname: OsNippo01g010600 --- Gene 21/27\n",
      "Query iricname: OsNippo01g010650 --- Gene 22/27\n",
      "Query iricname: OsNippo01g010700 --- Gene 23/27\n",
      "Query iricname: OsNippo01g011300 --- Gene 24/27\n",
      "Query iricname: OsNippo01g011350 --- Gene 25/27\n",
      "Query iricname: OsNippo01g010750 --- Gene 26/27\n",
      "Query iricname: OsNippo01g011000 --- Gene 27/27\n"
     ]
    }
   ],
   "source": [
    "db = test.query_iric(chro=\"chr01\", start_pos=\"1\",end_pos=\"100000\",dbs=\"all\")\n",
    "test.save_file(db,save_path=\"./result1/\",format=[\"csv\",\"html\",\"json\",\"pkl\"],hyper_link=False)"
   ]
  },
  {
   "cell_type": "code",
   "execution_count": 7,
   "metadata": {},
   "outputs": [
    {
     "name": "stdout",
     "output_type": "stream",
     "text": [
      "Query iricname: OsNippo02g010050 --- Gene 1/26\n",
      "Query iricname: OsNippo02g010100 --- Gene 2/26\n",
      "Query iricname: OsNippo02g010150 --- Gene 3/26\n",
      "Query iricname: OsNippo02g010200 --- Gene 4/26\n",
      "Query iricname: OsNippo02g010250 --- Gene 5/26\n",
      "Query iricname: OsNippo02g010300 --- Gene 6/26\n",
      "Query iricname: OsNippo02g010350 --- Gene 7/26\n",
      "Query iricname: OsNippo02g010400 --- Gene 8/26\n",
      "Query iricname: OsNippo02g010550 --- Gene 9/26\n",
      "Query iricname: OsNippo02g010600 --- Gene 10/26\n",
      "Query iricname: OsNippo02g010650 --- Gene 11/26\n",
      "Query iricname: OsNippo02g010800 --- Gene 12/26\n",
      "Query iricname: OsNippo02g010700 --- Gene 13/26\n",
      "Query iricname: OsNippo02g010850 --- Gene 14/26\n",
      "Query iricname: OsNippo02g010900 --- Gene 15/26\n",
      "Query iricname: OsNippo02g011000 --- Gene 16/26\n",
      "Query iricname: OsNippo02g011050 --- Gene 17/26\n",
      "Query iricname: OsNippo02g011150 --- Gene 18/26\n",
      "Query iricname: OsNippo02g011200 --- Gene 19/26\n",
      "Query iricname: OsNippo02g011100 --- Gene 20/26\n",
      "Query iricname: OsNippo02g011250 --- Gene 21/26\n",
      "Query iricname: OsNippo02g011300 --- Gene 22/26\n",
      "Query iricname: OsNippo02g010450 --- Gene 23/26\n",
      "Query iricname: OsNippo02g010500 --- Gene 24/26\n",
      "Query iricname: OsNippo02g010950 --- Gene 25/26\n",
      "Query iricname: OsNippo02g010750 --- Gene 26/26\n"
     ]
    }
   ],
   "source": [
    "db2 = test.query_iric(chro=\"chr02\", start_pos=\"1\",end_pos=\"100000\",dbs=\"all\")\n",
    "test.save_file(db2,save_path=\"./result2/\",format=[\"csv\",\"html\",\"json\",\"pkl\"],hyper_link=False)"
   ]
  },
  {
   "cell_type": "code",
   "execution_count": 19,
   "metadata": {},
   "outputs": [],
   "source": [
    "def search_text(df,text):\n",
    "    df = df.astype(str)\n",
    "    result_set = set()\n",
    "    for column in df.columns:\n",
    "        #print(column)\n",
    "        result = df[column].str.contains(text)\n",
    "        for i in range(len(result.values)):\n",
    "            if result.values[i] == True:\n",
    "                result_set.add(result.index[i])         \n",
    "#             print(column,df[column].str.contains(text))\n",
    "    return df.loc[result_set]"
   ]
  },
  {
   "cell_type": "code",
   "execution_count": 11,
   "metadata": {},
   "outputs": [
    {
     "name": "stderr",
     "output_type": "stream",
     "text": [
      "/Users/mac/anaconda3/envs/tensorflow/lib/python3.6/site-packages/ipykernel_launcher.py:3: FutureWarning: Sorting because non-concatenation axis is not aligned. A future version\n",
      "of pandas will change to not sort by default.\n",
      "\n",
      "To accept the future behavior, pass 'sort=False'.\n",
      "\n",
      "To retain the current behavior and silence the warning, pass 'sort=True'.\n",
      "\n",
      "  This is separate from the ipykernel package so we can avoid doing imports until\n"
     ]
    }
   ],
   "source": [
    "df1 = pd.read_pickle(\"./result1/data/db.pkl\")\n",
    "df2 = pd.read_pickle(\"./result2/data/db.pkl\")\n",
    "df = pd.concat([df1,df2])"
   ]
  },
  {
   "cell_type": "code",
   "execution_count": 25,
   "metadata": {},
   "outputs": [],
   "source": [
    "a = search_text(df,\"Amino acid \")"
   ]
  },
  {
   "cell_type": "code",
   "execution_count": 26,
   "metadata": {},
   "outputs": [
    {
     "data": {
      "text/html": [
       "<div>\n",
       "<style scoped>\n",
       "    .dataframe tbody tr th:only-of-type {\n",
       "        vertical-align: middle;\n",
       "    }\n",
       "\n",
       "    .dataframe tbody tr th {\n",
       "        vertical-align: top;\n",
       "    }\n",
       "\n",
       "    .dataframe thead th {\n",
       "        text-align: right;\n",
       "    }\n",
       "</style>\n",
       "<table border=\"1\" class=\"dataframe\">\n",
       "  <thead>\n",
       "    <tr style=\"text-align: right;\">\n",
       "      <th></th>\n",
       "      <th>Gramene._id</th>\n",
       "      <th>Gramene.annotations</th>\n",
       "      <th>Gramene.biotype</th>\n",
       "      <th>Gramene.description</th>\n",
       "      <th>Gramene.name</th>\n",
       "      <th>Gramene.species_idx</th>\n",
       "      <th>Gramene.system_name</th>\n",
       "      <th>Gramene.taxon_id</th>\n",
       "      <th>funricegene_faminfo.MSU</th>\n",
       "      <th>funricegene_faminfo.Name</th>\n",
       "      <th>...</th>\n",
       "      <th>oryzabase.Trait Ontology</th>\n",
       "      <th>rapdb.CGSNL Gene Name</th>\n",
       "      <th>rapdb.CGSNL Gene Symbol</th>\n",
       "      <th>rapdb.Description</th>\n",
       "      <th>rapdb.ID</th>\n",
       "      <th>rapdb.Oryzabase Gene Name Synonym(s)</th>\n",
       "      <th>rapdb.Oryzabase Gene Symbol Synonym(s)</th>\n",
       "      <th>rapdb.Position</th>\n",
       "      <th>rapdb.RAP-DB Gene Name Synonym(s)</th>\n",
       "      <th>rapdb.RAP-DB Gene Symbol Synonym(s)</th>\n",
       "    </tr>\n",
       "  </thead>\n",
       "  <tbody>\n",
       "    <tr>\n",
       "      <th>OsNippo02g010700</th>\n",
       "      <td>Os02g0101000</td>\n",
       "      <td>{'GO': {'entries': [{'id': 'GO:0016021', 'name...</td>\n",
       "      <td>protein_coding</td>\n",
       "      <td>Amino acid transporter, transmembrane domain c...</td>\n",
       "      <td>amino acid transporter-like 11, OsAux/LAX1 pro...</td>\n",
       "      <td>5.0</td>\n",
       "      <td>oryza_sativa</td>\n",
       "      <td>39947.0</td>\n",
       "      <td>nan</td>\n",
       "      <td>nan</td>\n",
       "      <td>...</td>\n",
       "      <td>TO:0000163 - auxin sensitivity</td>\n",
       "      <td>nan</td>\n",
       "      <td>nan</td>\n",
       "      <td>Amino acid transporter, transmembrane domain c...</td>\n",
       "      <td>Os02g0101000</td>\n",
       "      <td>amino acid transporter-like 11, OsAux/LAX1 pro...</td>\n",
       "      <td>OsATL11, OsAux/LAX1, OSLAX1</td>\n",
       "      <td>chr02:50308..55886</td>\n",
       "      <td>nan</td>\n",
       "      <td>nan</td>\n",
       "    </tr>\n",
       "  </tbody>\n",
       "</table>\n",
       "<p>1 rows × 47 columns</p>\n",
       "</div>"
      ],
      "text/plain": [
       "                   Gramene._id  \\\n",
       "OsNippo02g010700  Os02g0101000   \n",
       "\n",
       "                                                Gramene.annotations  \\\n",
       "OsNippo02g010700  {'GO': {'entries': [{'id': 'GO:0016021', 'name...   \n",
       "\n",
       "                 Gramene.biotype  \\\n",
       "OsNippo02g010700  protein_coding   \n",
       "\n",
       "                                                Gramene.description  \\\n",
       "OsNippo02g010700  Amino acid transporter, transmembrane domain c...   \n",
       "\n",
       "                                                       Gramene.name  \\\n",
       "OsNippo02g010700  amino acid transporter-like 11, OsAux/LAX1 pro...   \n",
       "\n",
       "                 Gramene.species_idx Gramene.system_name Gramene.taxon_id  \\\n",
       "OsNippo02g010700                 5.0        oryza_sativa          39947.0   \n",
       "\n",
       "                 funricegene_faminfo.MSU funricegene_faminfo.Name  \\\n",
       "OsNippo02g010700                     nan                      nan   \n",
       "\n",
       "                                 ...                  \\\n",
       "OsNippo02g010700                 ...                   \n",
       "\n",
       "                        oryzabase.Trait Ontology rapdb.CGSNL Gene Name  \\\n",
       "OsNippo02g010700  TO:0000163 - auxin sensitivity                   nan   \n",
       "\n",
       "                 rapdb.CGSNL Gene Symbol  \\\n",
       "OsNippo02g010700                     nan   \n",
       "\n",
       "                                                  rapdb.Description  \\\n",
       "OsNippo02g010700  Amino acid transporter, transmembrane domain c...   \n",
       "\n",
       "                      rapdb.ID  \\\n",
       "OsNippo02g010700  Os02g0101000   \n",
       "\n",
       "                               rapdb.Oryzabase Gene Name Synonym(s)  \\\n",
       "OsNippo02g010700  amino acid transporter-like 11, OsAux/LAX1 pro...   \n",
       "\n",
       "                 rapdb.Oryzabase Gene Symbol Synonym(s)      rapdb.Position  \\\n",
       "OsNippo02g010700            OsATL11, OsAux/LAX1, OSLAX1  chr02:50308..55886   \n",
       "\n",
       "                 rapdb.RAP-DB Gene Name Synonym(s)  \\\n",
       "OsNippo02g010700                               nan   \n",
       "\n",
       "                 rapdb.RAP-DB Gene Symbol Synonym(s)  \n",
       "OsNippo02g010700                                 nan  \n",
       "\n",
       "[1 rows x 47 columns]"
      ]
     },
     "execution_count": 26,
     "metadata": {},
     "output_type": "execute_result"
    }
   ],
   "source": [
    "a"
   ]
  },
  {
   "cell_type": "code",
   "execution_count": 18,
   "metadata": {
    "scrolled": true
   },
   "outputs": [
    {
     "name": "stdout",
     "output_type": "stream",
     "text": [
      "Query iricname: OsNippo01g107750 --- Gene 1/3\n",
      "{'Os01g0271700'} {'LOC_Os01g16550'}\n",
      "Query iricname: OsNippo01g107800 --- Gene 2/3\n",
      "{'Os01g0271901'} set()\n",
      "Query iricname: OsNippo01g108100 --- Gene 3/3\n",
      "{'Os01g0272600'} {'LOC_Os01g16600'}\n",
      "26.016114234924316\n"
     ]
    }
   ],
   "source": [
    "t = time.time()\n",
    "db = test.query_ids_locs(idents=[\"Os01g0271700\",\"Os01g0271901\",\"Os01g0272600\"]\n",
    "                         ,locs=[],irics=[],dbs=[\"oryzabase\", \"Gramene\", \"funricegene_genekeywords\", \"funricegene_faminfo\", \"rapdb\", \"funricegene_geneinfo\"])\n",
    "print(time.time()-t)\n",
    "test.save_file(db,'./fix/',format=[\"csv\",\"html\",\"json\",\"pkl\"])\n",
    "#print(\"Output database\",db)"
   ]
  },
  {
   "cell_type": "code",
   "execution_count": null,
   "metadata": {},
   "outputs": [],
   "source": []
  }
 ],
 "metadata": {
  "kernelspec": {
   "display_name": "Python 3",
   "language": "python",
   "name": "python3"
  },
  "language_info": {
   "codemirror_mode": {
    "name": "ipython",
    "version": 3
   },
   "file_extension": ".py",
   "mimetype": "text/x-python",
   "name": "python",
   "nbconvert_exporter": "python",
   "pygments_lexer": "ipython3",
   "version": "3.6.7"
  }
 },
 "nbformat": 4,
 "nbformat_minor": 2
}

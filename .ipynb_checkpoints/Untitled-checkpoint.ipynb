{
 "cells": [
  {
   "cell_type": "code",
   "execution_count": null,
   "metadata": {},
   "outputs": [],
   "source": [
    "import pickle\n",
    "import json\n",
    "import requests\n",
    "import gzip\n",
    "import shutil\n",
    "import os\n",
    "import wget\n",
    "import urllib"
   ]
  },
  {
   "cell_type": "code",
   "execution_count": 5,
   "metadata": {},
   "outputs": [],
   "source": [
    "source_filepath = \"./support/rapdb.gz\"\n",
    "dest_filepath = \"./support/rapdb.tsv\"\n",
    "oryzabase_filepath = './support/OryzabaseGeneListEn.txt'\n",
    "REMOVE = True\n",
    "rapdb_url = \"https://rapdb.dna.affrc.go.jp/download/archive/irgsp1/IRGSP-1.0_representative_annotation_2019-03-22.tsv.gz\"\n",
    "oryzabase_url = \"https://shigen.nig.ac.jp/rice/oryzabase/gene/download?classtag=GENE_EN_LIST\"\n",
    "\n",
    "def gunzip_shutil(source_filepath, dest_filepath, block_size=65536):\n",
    "    with gzip.open(source_filepath, 'rb') as s_file, \\\n",
    "            open(dest_filepath, 'wb') as d_file:\n",
    "        shutil.copyfileobj(s_file, d_file, block_size)"
   ]
  },
  {
   "cell_type": "code",
   "execution_count": null,
   "metadata": {},
   "outputs": [],
   "source": []
  },
  {
   "cell_type": "code",
   "execution_count": null,
   "metadata": {},
   "outputs": [
    {
     "name": "stdout",
     "output_type": "stream",
     "text": [
      "Beginning file download with requests\n"
     ]
    }
   ],
   "source": [
    "# Download file oryzabase\n",
    "print('Beginning file download with requests')\n",
    "# urllib.request.urlretrieve(oryzabase_url,\"./support/OryzabaseGeneListEn.txt\")\n",
    "wget.download(oryzabase_url,\"./support/OryzabaseGeneListEn.txt\")\n",
    "# Download file rapdb \n",
    "# print('Beginning file download with wget module')\n",
    "# wget.download(rapdb_url, source_filepath)\n",
    "# gunzip_shutil(source_filepath,dest_filepath)"
   ]
  },
  {
   "cell_type": "code",
   "execution_count": null,
   "metadata": {},
   "outputs": [],
   "source": [
    "with open(\"/Users/mac/Downloads/OryzabaseGeneListEn_20190329010058.txt\",\"r\") as f:\n",
    "    data = f.readlines()\n",
    "    f.close()"
   ]
  },
  {
   "cell_type": "code",
   "execution_count": null,
   "metadata": {},
   "outputs": [],
   "source": [
    "with open(\"./support/id_dict.pkl\", \"rb\") as f:\n",
    "    id_dict = pickle.load(f)\n",
    "    f.close()"
   ]
  },
  {
   "cell_type": "code",
   "execution_count": null,
   "metadata": {},
   "outputs": [],
   "source": [
    "filter_data = []\n",
    "for d in data:\n",
    "    filter_data.append(d.split(\"\\t\"))"
   ]
  },
  {
   "cell_type": "code",
   "execution_count": null,
   "metadata": {},
   "outputs": [],
   "source": [
    "filter_data[0]"
   ]
  },
  {
   "cell_type": "code",
   "execution_count": null,
   "metadata": {},
   "outputs": [],
   "source": [
    "c=0\n",
    "oryzabase = dict()\n",
    "for d in filter_data:\n",
    "    if len(d) >10 :\n",
    "        if d[10] in id_dict.keys():\n",
    "            iric_name = id_dict[d[10]]\n",
    "#             if iric_name not in orzybase.keys():\n",
    "            oryzabase.setdefault(iric_name,{\"oryzabase\":dict()})\n",
    "            oryzabase[iric_name][\"oryzabase\"].setdefault(\"CGSNL Gene Symbol\",d[1])\n",
    "            oryzabase[iric_name][\"oryzabase\"].setdefault(\"Gene symbol synonym(s)\",d[2])\n",
    "            oryzabase[iric_name][\"oryzabase\"].setdefault(\"CGSNL Gene Name\",d[3])\n",
    "            oryzabase[iric_name][\"oryzabase\"].setdefault(\"Gene name synonym(s)\",d[4])\n",
    "            oryzabase[iric_name][\"oryzabase\"].setdefault(\"Chr. No.\",d[7])\n",
    "            oryzabase[iric_name][\"oryzabase\"].setdefault(\"Trait Class\",d[9])\n",
    "            oryzabase[iric_name][\"oryzabase\"].setdefault(\"Gene Ontology\",d[14])\n",
    "            oryzabase[iric_name][\"oryzabase\"].setdefault(\"Trait Ontology\",d[15])\n",
    "            oryzabase[iric_name][\"oryzabase\"].setdefault(\"Plant Ontology\",d[16])\n",
    "            oryzabase[iric_name][\"oryzabase\"].setdefault(\"RAP ID\",d[10])\n",
    "#             else:\n",
    "#                 print(\"{}\\n{}\".format(orzybase[iric_name],d))\n",
    "            c+=1"
   ]
  },
  {
   "cell_type": "code",
   "execution_count": null,
   "metadata": {},
   "outputs": [],
   "source": [
    "len(oryzabase)"
   ]
  },
  {
   "cell_type": "code",
   "execution_count": null,
   "metadata": {},
   "outputs": [],
   "source": [
    "id_dict[\"Os06g0286700\"]"
   ]
  },
  {
   "cell_type": "code",
   "execution_count": null,
   "metadata": {},
   "outputs": [],
   "source": [
    "with open(\"./support/oryzabase.pkl\", \"wb\") as f:\n",
    "    pickle.dump(oryzabase,f)\n",
    "    f.close()    "
   ]
  },
  {
   "cell_type": "code",
   "execution_count": null,
   "metadata": {},
   "outputs": [],
   "source": [
    "for i in range(len(filter_data[0])):\n",
    "    print(str(i)+\" \"+filter_data[0][i]+\" : \"+filter_data[10000][i])"
   ]
  },
  {
   "cell_type": "code",
   "execution_count": null,
   "metadata": {},
   "outputs": [],
   "source": [
    "data =[]\n",
    "with open(\"/Users/mac/Downloads/IRGSP-1.0_representative_annotation_2019-03-22.tsv\",\"r\") as f:\n",
    "    data = f.readlines()\n",
    "    f.close()"
   ]
  },
  {
   "cell_type": "code",
   "execution_count": null,
   "metadata": {},
   "outputs": [],
   "source": [
    "# data2 =[]\n",
    "# with open(\"./support/IRGSP-1.0_representative_annotation_2019-03-22.tsv\",\"rb\") as f:\n",
    "#     while f.readline():\n",
    "#         for line in f.readline():\n",
    "#             data2.append(line)\n",
    "#     f.close()"
   ]
  },
  {
   "cell_type": "code",
   "execution_count": null,
   "metadata": {},
   "outputs": [],
   "source": [
    "filter_data = []\n",
    "for d in data:\n",
    "    filter_data.append(d.split(\"\\t\"))"
   ]
  },
  {
   "cell_type": "code",
   "execution_count": null,
   "metadata": {},
   "outputs": [],
   "source": [
    "filter_data[0]"
   ]
  },
  {
   "cell_type": "code",
   "execution_count": null,
   "metadata": {},
   "outputs": [],
   "source": [
    "len(filter_data)"
   ]
  },
  {
   "cell_type": "code",
   "execution_count": null,
   "metadata": {},
   "outputs": [],
   "source": [
    "c=0\n",
    "rapdb = dict()\n",
    "for d in filter_data:\n",
    "    if len(d) >10 :\n",
    "        if d[1] in id_dict.keys():\n",
    "            iric_name = id_dict[d[1]]\n",
    "#             if iric_name not in orzybase.keys():\n",
    "            rapdb.setdefault(iric_name,{\"rapdb\":dict()})\n",
    "            rapdb[iric_name][\"rapdb\"].setdefault(\"Locus_ID\",d[1])\n",
    "            rapdb[iric_name][\"rapdb\"].setdefault(\"Description\",d[2])\n",
    "            rapdb[iric_name][\"rapdb\"].setdefault(\"Position\",d[3])\n",
    "            rapdb[iric_name][\"rapdb\"].setdefault(\"RAP-DB Gene Symbol Synonym(s)\",d[4])\n",
    "            rapdb[iric_name][\"rapdb\"].setdefault(\"RAP-DB Gene Name Synonym(s)\",d[5])\n",
    "            rapdb[iric_name][\"rapdb\"].setdefault(\"CGSNL Gene Symbol\",d[6])\n",
    "            rapdb[iric_name][\"rapdb\"].setdefault(\"CGSNL Gene Name\",d[7])\n",
    "            rapdb[iric_name][\"rapdb\"].setdefault(\"Oryzabase Gene Symbol Synonym(s)\",d[8])\n",
    "            rapdb[iric_name][\"rapdb\"].setdefault(\"Oryzabase Gene Name Synonym(s)\",d[9])\n",
    "#         else:\n",
    "#             print(\"{}\\n{}\".format(rapdb[iric_name],d))\n",
    "        c+=1"
   ]
  },
  {
   "cell_type": "code",
   "execution_count": null,
   "metadata": {},
   "outputs": [],
   "source": [
    "len(rapdb)"
   ]
  },
  {
   "cell_type": "code",
   "execution_count": null,
   "metadata": {},
   "outputs": [],
   "source": [
    "with open(\"./support/rapdb.pkl\", \"wb\") as f:\n",
    "    pickle.dump(rapdb,f)\n",
    "    f.close()  "
   ]
  },
  {
   "cell_type": "code",
   "execution_count": null,
   "metadata": {},
   "outputs": [],
   "source": [
    "if REMOVE == True:\n",
    "    os.remove(source_filepath)\n",
    "    os.remove(dest_filepath)\n",
    "#     os.remove(oryzabase_url)"
   ]
  },
  {
   "cell_type": "code",
   "execution_count": null,
   "metadata": {},
   "outputs": [],
   "source": []
  },
  {
   "cell_type": "code",
   "execution_count": null,
   "metadata": {},
   "outputs": [],
   "source": []
  }
 ],
 "metadata": {
  "kernelspec": {
   "display_name": "Python 3",
   "language": "python",
   "name": "python3"
  }
 },
 "nbformat": 4,
 "nbformat_minor": 2
}
